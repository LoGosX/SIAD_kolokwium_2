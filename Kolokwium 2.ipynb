{
 "cells": [
  {
   "cell_type": "markdown",
   "metadata": {},
   "source": [
    "# Korelacja i kowariancja\n",
    "![](kowariancja.png)"
   ]
  },
  {
   "cell_type": "code",
   "execution_count": 1,
   "metadata": {},
   "outputs": [
    {
     "name": "stdout",
     "output_type": "stream",
     "text": [
      "[1] \"S_x,y = 0.0167155535069811\"\n"
     ]
    }
   ],
   "source": [
    "x <- runif(10)\n",
    "y <- runif(10)\n",
    "print(paste(\"S_x,y =\", cov(x,y)))"
   ]
  },
  {
   "cell_type": "markdown",
   "metadata": {},
   "source": [
    "![](korelacja.png)"
   ]
  },
  {
   "cell_type": "code",
   "execution_count": 2,
   "metadata": {},
   "outputs": [
    {
     "name": "stdout",
     "output_type": "stream",
     "text": [
      "[1] \"r_x,y = \"\n"
     ]
    }
   ],
   "source": [
    "S_xy <- NULL\n",
    "S_x <-  NULL\n",
    "S_y <-  NULL\n",
    "cor_xy <- S_xy / (S_x * S_y)\n",
    "print(paste(\"r_x,y =\", cor_xy))"
   ]
  },
  {
   "cell_type": "code",
   "execution_count": 3,
   "metadata": {},
   "outputs": [
    {
     "name": "stdout",
     "output_type": "stream",
     "text": [
      "[1] \"r_x,y = -0.696106140174946\"\n"
     ]
    }
   ],
   "source": [
    "x <- c(1,2,3,4)\n",
    "y <- c(5,6,7,-8)\n",
    "cor_xy <- cor(x, y, method = \"pearson\")\n",
    "print(paste(\"r_x,y =\", cor_xy))"
   ]
  },
  {
   "cell_type": "markdown",
   "metadata": {},
   "source": [
    "![](korelacja_wlasciwosci.png)\n",
    "![](przyklad_korelacja.png)\n",
    "? - korelacja nie istnieje gdy jedna z zmiennych ma zerową wariancję (jest stała)\n",
    "## Test na korelację\n",
    "![](korelacja_test.png)\n",
    "### Dla obliczonej korelacji"
   ]
  },
  {
   "cell_type": "code",
   "execution_count": 4,
   "metadata": {},
   "outputs": [
    {
     "name": "stdout",
     "output_type": "stream",
     "text": [
      "Obliczona korelacja: -0.696106140174946 \n",
      "Poziom istotnosci: 0.01 \n",
      "\n",
      "T_(n-2) = -2.74241377865072 \n",
      "\n",
      "Test lewostronny\n",
      "p-wartosc = 0.012677\n",
      "Zbior krytyczny: (-Inf, -2.896459)\n",
      "\n",
      "Test prawostronny\n",
      "p-wartosc = 0.987323\n",
      "Zbior krytyczny: (2.896459, Inf)\n",
      "\n",
      "Test prawostronny\n",
      "p-wartosc = 0.987323\n",
      "Zbior krytyczny: (-Inf, -3.355387) v (3.355387, Inf)\n"
     ]
    }
   ],
   "source": [
    "#cor_xy <- \n",
    "#n <- length(x)\n",
    "n <- 10\n",
    "poziom_istotnosci <- 0.01\n",
    "\n",
    "cat(paste(\"Obliczona korelacja:\", cor_xy, '\\nPoziom istotnosci:', poziom_istotnosci, '\\n\\n'))\n",
    "\n",
    "wart_stat_testowej <- cor_xy / (sqrt(1 - cor_xy ^ 2)) * sqrt(n-2)\n",
    "cat(paste(\"T_(n-2) =\", wart_stat_testowej, '\\n'))\n",
    "\n",
    "zbior_kryt_lewo <- qt(poziom_istotnosci, df = n - 2)\n",
    "p_wart_lewo <- pt(wart_stat_testowej, df = n - 2)\n",
    "cat(sprintf(\"\n",
    "Test lewostronny\n",
    "p-wartosc = %f\n",
    "Zbior krytyczny: (-Inf, %f)\n",
    "\", p_wart_lewo, zbior_kryt_lewo))\n",
    "\n",
    "zbior_kryt_prawo <- qt(1 - poziom_istotnosci, df = n - 2)\n",
    "p_wart_prawo <- 1 - pt(wart_stat_testowej, df = n - 2)\n",
    "cat(sprintf(\"\n",
    "Test prawostronny\n",
    "p-wartosc = %f\n",
    "Zbior krytyczny: (%f, Inf)\n",
    "\", p_wart_prawo, zbior_kryt_prawo))\n",
    "\n",
    "\n",
    "zbior_kryt_obu <- qt(poziom_istotnosci / 2, df = n - 2)\n",
    "p_wart_obu <- pt(wart_stat_testowej, df = n - 2)\n",
    "cat(sprintf(\"\n",
    "Test prawostronny\n",
    "p-wartosc = %f\n",
    "Zbior krytyczny: (-Inf, %f) v (%f, Inf)\n",
    "\", p_wart_prawo, zbior_kryt_obu, -zbior_kryt_obu))"
   ]
  },
  {
   "cell_type": "markdown",
   "metadata": {},
   "source": [
    "### Dla danych"
   ]
  },
  {
   "cell_type": "code",
   "execution_count": 5,
   "metadata": {},
   "outputs": [
    {
     "name": "stdout",
     "output_type": "stream",
     "text": [
      "[1] \"Test obustronny\"\n"
     ]
    },
    {
     "data": {
      "text/plain": [
       "\n",
       "\tPearson's product-moment correlation\n",
       "\n",
       "data:  x and y\n",
       "t = -1.3712, df = 2, p-value = 0.3039\n",
       "alternative hypothesis: true correlation is not equal to 0\n",
       "99 percent confidence interval:\n",
       " -0.9979274  0.9373945\n",
       "sample estimates:\n",
       "       cor \n",
       "-0.6961061 \n"
      ]
     },
     "metadata": {},
     "output_type": "display_data"
    },
    {
     "name": "stdout",
     "output_type": "stream",
     "text": [
      "[1] \"Test lewostronny\"\n"
     ]
    },
    {
     "data": {
      "text/plain": [
       "\n",
       "\tPearson's product-moment correlation\n",
       "\n",
       "data:  x and y\n",
       "t = -1.3712, df = 2, p-value = 0.1519\n",
       "alternative hypothesis: true correlation is less than 0\n",
       "99 percent confidence interval:\n",
       " -1.0000000  0.8989349\n",
       "sample estimates:\n",
       "       cor \n",
       "-0.6961061 \n"
      ]
     },
     "metadata": {},
     "output_type": "display_data"
    },
    {
     "name": "stdout",
     "output_type": "stream",
     "text": [
      "[1] \"Test prawostronny\"\n"
     ]
    },
    {
     "data": {
      "text/plain": [
       "\n",
       "\tPearson's product-moment correlation\n",
       "\n",
       "data:  x and y\n",
       "t = -1.3712, df = 2, p-value = 0.8481\n",
       "alternative hypothesis: true correlation is greater than 0\n",
       "99 percent confidence interval:\n",
       " -0.9965887  1.0000000\n",
       "sample estimates:\n",
       "       cor \n",
       "-0.6961061 \n"
      ]
     },
     "metadata": {},
     "output_type": "display_data"
    }
   ],
   "source": [
    "x <- c(1,2,3,4)\n",
    "y <- c(5,6,7,-8)\n",
    "poziom_istotnosci <- 0.01\n",
    "\n",
    "print(\"Test obustronny\")\n",
    "(cor.test(x, y, conf.level = 1-poziom_istotnosci))\n",
    "print(\"Test lewostronny\")\n",
    "(cor.test(x, y, conf.level = 1-poziom_istotnosci, alternative = \"less\"))\n",
    "print(\"Test prawostronny\")\n",
    "(cor.test(x, y, conf.level = 1-poziom_istotnosci, alternative = \"greater\"))"
   ]
  },
  {
   "cell_type": "markdown",
   "metadata": {},
   "source": [
    "# Test T dla dwóch populacji \n",
    "\n",
    "## TEST DLA PODANYCH DANYCH"
   ]
  },
  {
   "cell_type": "code",
   "execution_count": 21,
   "metadata": {},
   "outputs": [
    {
     "name": "stdout",
     "output_type": "stream",
     "text": [
      "[1] \"Zalozenia CTL spelnione (n1 > 30 i n2 > 30)\"\n",
      "\n",
      "\n",
      "Test obustronny\n",
      "\n",
      "\tPaired t-test\n",
      "\n",
      "data:  x and y\n",
      "t = -0.33256, df = 99, p-value = 0.7402\n",
      "alternative hypothesis: true difference in means is not equal to 0\n",
      "99 percent confidence interval:\n",
      " -0.2004997  0.1554315\n",
      "sample estimates:\n",
      "mean of the differences \n",
      "             -0.0225341 \n",
      "\n",
      "Wartosc statystyki testowej: -0.332556843387114 \n",
      "p-wartosc wieksza od poziomu istotnosci. Brak podstaw do odrzucenia H0\n",
      "\n",
      "Test lewostronny\n",
      "\n",
      "\tPaired t-test\n",
      "\n",
      "data:  x and y\n",
      "t = -0.33256, df = 99, p-value = 0.3701\n",
      "alternative hypothesis: true difference in means is less than 0\n",
      "99 percent confidence interval:\n",
      "     -Inf 0.137692\n",
      "sample estimates:\n",
      "mean of the differences \n",
      "             -0.0225341 \n",
      "\n",
      "Wartosc statystyki testowej: -0.332556843387114 \n",
      "p-wartosc wieksza od poziomu istotnosci. Brak podstaw do odrzucenia H0\n",
      "\n",
      "Test prawostronny\n",
      "\n",
      "\tPaired t-test\n",
      "\n",
      "data:  x and y\n",
      "t = -0.33256, df = 99, p-value = 0.6299\n",
      "alternative hypothesis: true difference in means is greater than 0\n",
      "99 percent confidence interval:\n",
      " -0.1827602        Inf\n",
      "sample estimates:\n",
      "mean of the differences \n",
      "             -0.0225341 \n",
      "\n",
      "Wartosc statystyki testowej: -0.332556843387114 \n",
      "p-wartosc wieksza od poziomu istotnosci. Brak podstaw do odrzucenia H0"
     ]
    }
   ],
   "source": [
    "x <- (runif(100) -0.5)    #pierwsza populacja\n",
    "y <- (runif(100) - 0.5)*2 #druga populacja\n",
    "\n",
    "poziom_istotnosci <- 0.01\n",
    "sparowany <- T #CZY SPAROWANY\n",
    "rowne_wariancje <- F #CZY ROWNE WARIANCJE\n",
    "\n",
    "#sprawdzenie zalozen CLT\n",
    "if (length(x) > 30 & length(y) > 30){\n",
    "    print(\"Zalozenia CTL spelnione (n1 > 30 i n2 > 30)\")\n",
    "}else {\n",
    "    print(\"Zalozenia CTL nie sa spelnione! n1 <= 30 lub n2 <= 30\")\n",
    "}\n",
    "\n",
    "test <- function(x, y, alternative) {\n",
    "    res <- t.test(x, y, \n",
    "              paired = sparowany, \n",
    "              conf.level = 1 - poziom_istotnosci, \n",
    "              alternative = alternative,\n",
    "             var.equal = rowne_wariancje\n",
    "             )\n",
    "    print(res)\n",
    "    cat(paste(\"Wartosc statystyki testowej:\", res$statistic, '\\n'))\n",
    "    if(res$p.value < poziom_istotnosci){\n",
    "        cat(\"p-wartosc mniejsza od poziomu istotnosci. Odrzucamy H0\")\n",
    "    }else{\n",
    "        cat(\"p-wartosc wieksza od poziomu istotnosci. Brak podstaw do odrzucenia H0\")\n",
    "    }\n",
    "}\n",
    "\n",
    "cat(\"\\n\\nTest obustronny\\n\")\n",
    "test(x, y, \"two.sided\")\n",
    "\n",
    "cat(\"\\n\\nTest lewostronny\\n\")\n",
    "test(x, y, \"less\")\n",
    "\n",
    "cat(\"\\n\\nTest prawostronny\\n\")\n",
    "test(x, y, \"greater\")"
   ]
  },
  {
   "cell_type": "code",
   "execution_count": null,
   "metadata": {},
   "outputs": [],
   "source": []
  }
 ],
 "metadata": {
  "kernelspec": {
   "display_name": "R",
   "language": "R",
   "name": "ir"
  },
  "language_info": {
   "codemirror_mode": "r",
   "file_extension": ".r",
   "mimetype": "text/x-r-source",
   "name": "R",
   "pygments_lexer": "r",
   "version": "3.6.1"
  }
 },
 "nbformat": 4,
 "nbformat_minor": 4
}
