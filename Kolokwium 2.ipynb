{
 "cells": [
  {
   "cell_type": "markdown",
   "metadata": {},
   "source": [
    "# Korelacja i kowariancja\n",
    "![](images/kowariancja.PNG)"
   ]
  },
  {
   "cell_type": "code",
   "execution_count": 60,
   "metadata": {},
   "outputs": [
    {
     "name": "stdout",
     "output_type": "stream",
     "text": [
      "[1] \"S_x,y = -0.0154225856492862\"\n"
     ]
    }
   ],
   "source": [
    "x <- runif(10)\n",
    "y <- runif(10)\n",
    "print(paste(\"S_x,y =\", cov(x,y)))"
   ]
  },
  {
   "cell_type": "markdown",
   "metadata": {},
   "source": [
    "![](images/korelacja.png)"
   ]
  },
  {
   "cell_type": "code",
   "execution_count": 61,
   "metadata": {},
   "outputs": [
    {
     "name": "stdout",
     "output_type": "stream",
     "text": [
      "[1] \"r_x,y = \"\n"
     ]
    }
   ],
   "source": [
    "S_xy <- NULL\n",
    "S_x <-  NULL\n",
    "S_y <-  NULL\n",
    "cor_xy <- S_xy / (S_x * S_y)\n",
    "print(paste(\"r_x,y =\", cor_xy))"
   ]
  },
  {
   "cell_type": "code",
   "execution_count": 62,
   "metadata": {},
   "outputs": [
    {
     "name": "stdout",
     "output_type": "stream",
     "text": [
      "[1] \"r_x,y = -0.696106140174946\"\n"
     ]
    }
   ],
   "source": [
    "x <- c(1,2,3,4)\n",
    "y <- c(5,6,7,-8)\n",
    "cor_xy <- cor(x, y, method = \"pearson\")\n",
    "print(paste(\"r_x,y =\", cor_xy))"
   ]
  },
  {
   "cell_type": "markdown",
   "metadata": {},
   "source": [
    "![](images/korelacja_wlasciwosci.PNG)\n",
    "![](images/przyklad_korelacja.PNG)\n",
    "? - korelacja nie istnieje gdy jedna z zmiennych ma zerową wariancję (jest stała)\n",
    "## Test na korelację\n",
    "![](images/korelacja_test.PNG)\n",
    "### Dla obliczonej korelacji"
   ]
  },
  {
   "cell_type": "code",
   "execution_count": 67,
   "metadata": {},
   "outputs": [
    {
     "name": "stdout",
     "output_type": "stream",
     "text": [
      "Obliczona korelacja: -0.696106140174946 \n",
      "Poziom istotnosci: 0.01 \n",
      "\n",
      "T_(n-2) = -2.74241377865072 \n",
      "\n",
      "Test lewostronny\n",
      "p-wartosc = 0.012677\n",
      "Zbior krytyczny: (-Inf, -2.896459)\n",
      "\n",
      "Test prawostronny\n",
      "p-wartosc = 0.987323\n",
      "Zbior krytyczny: (2.896459, Inf)\n",
      "\n",
      "Test obustronny\n",
      "p-wartosc = 0.987323\n",
      "Zbior krytyczny: (-Inf, -3.355387) v (3.355387, Inf)\n"
     ]
    }
   ],
   "source": [
    "#cor_xy <- \n",
    "#n <- length(x)\n",
    "n <- 10\n",
    "poziom_istotnosci <- 0.01\n",
    "\n",
    "cat(paste(\"Obliczona korelacja:\", cor_xy, '\\nPoziom istotnosci:', poziom_istotnosci, '\\n\\n'))\n",
    "\n",
    "wart_stat_testowej <- cor_xy / (sqrt(1 - cor_xy ^ 2)) * sqrt(n-2)\n",
    "cat(paste(\"T_(n-2) =\", wart_stat_testowej, '\\n'))\n",
    "\n",
    "zbior_kryt_lewo <- qt(poziom_istotnosci, df = n - 2)\n",
    "p_wart_lewo <- pt(wart_stat_testowej, df = n - 2)\n",
    "cat(sprintf(\"\n",
    "Test lewostronny\n",
    "p-wartosc = %f\n",
    "Zbior krytyczny: (-Inf, %f)\n",
    "\", p_wart_lewo, zbior_kryt_lewo))\n",
    "\n",
    "zbior_kryt_prawo <- qt(1 - poziom_istotnosci, df = n - 2)\n",
    "p_wart_prawo <- 1 - pt(wart_stat_testowej, df = n - 2)\n",
    "cat(sprintf(\"\n",
    "Test prawostronny\n",
    "p-wartosc = %f\n",
    "Zbior krytyczny: (%f, Inf)\n",
    "\", p_wart_prawo, zbior_kryt_prawo))\n",
    "\n",
    "\n",
    "zbior_kryt_obu <- qt(poziom_istotnosci / 2, df = n - 2)\n",
    "p_wart_obu <- pt(wart_stat_testowej, df = n - 2)\n",
    "cat(sprintf(\"\n",
    "Test obustronny\n",
    "p-wartosc = %f\n",
    "Zbior krytyczny: (-Inf, %f) v (%f, Inf)\n",
    "\", p_wart_prawo, zbior_kryt_obu, -zbior_kryt_obu))"
   ]
  },
  {
   "cell_type": "markdown",
   "metadata": {},
   "source": [
    "### Dla danych"
   ]
  },
  {
   "cell_type": "code",
   "execution_count": 64,
   "metadata": {},
   "outputs": [
    {
     "name": "stdout",
     "output_type": "stream",
     "text": [
      "[1] \"Test obustronny\"\n"
     ]
    },
    {
     "data": {
      "text/plain": [
       "\n",
       "\tPearson's product-moment correlation\n",
       "\n",
       "data:  x and y\n",
       "t = -1.3712, df = 2, p-value = 0.3039\n",
       "alternative hypothesis: true correlation is not equal to 0\n",
       "99 percent confidence interval:\n",
       " -0.9979274  0.9373945\n",
       "sample estimates:\n",
       "       cor \n",
       "-0.6961061 \n"
      ]
     },
     "metadata": {},
     "output_type": "display_data"
    },
    {
     "name": "stdout",
     "output_type": "stream",
     "text": [
      "[1] \"Test lewostronny\"\n"
     ]
    },
    {
     "data": {
      "text/plain": [
       "\n",
       "\tPearson's product-moment correlation\n",
       "\n",
       "data:  x and y\n",
       "t = -1.3712, df = 2, p-value = 0.1519\n",
       "alternative hypothesis: true correlation is less than 0\n",
       "99 percent confidence interval:\n",
       " -1.0000000  0.8989349\n",
       "sample estimates:\n",
       "       cor \n",
       "-0.6961061 \n"
      ]
     },
     "metadata": {},
     "output_type": "display_data"
    },
    {
     "name": "stdout",
     "output_type": "stream",
     "text": [
      "[1] \"Test prawostronny\"\n"
     ]
    },
    {
     "data": {
      "text/plain": [
       "\n",
       "\tPearson's product-moment correlation\n",
       "\n",
       "data:  x and y\n",
       "t = -1.3712, df = 2, p-value = 0.8481\n",
       "alternative hypothesis: true correlation is greater than 0\n",
       "99 percent confidence interval:\n",
       " -0.9965887  1.0000000\n",
       "sample estimates:\n",
       "       cor \n",
       "-0.6961061 \n"
      ]
     },
     "metadata": {},
     "output_type": "display_data"
    }
   ],
   "source": [
    "x <- c(1,2,3,4)\n",
    "y <- c(5,6,7,-8)\n",
    "poziom_istotnosci <- 0.01\n",
    "\n",
    "print(\"Test obustronny\")\n",
    "(cor.test(x, y, conf.level = 1-poziom_istotnosci))\n",
    "print(\"Test lewostronny\")\n",
    "(cor.test(x, y, conf.level = 1-poziom_istotnosci, alternative = \"less\"))\n",
    "print(\"Test prawostronny\")\n",
    "(cor.test(x, y, conf.level = 1-poziom_istotnosci, alternative = \"greater\"))"
   ]
  },
  {
   "cell_type": "markdown",
   "metadata": {},
   "source": [
    "# Test T dla dwóch populacji\n",
    "\n",
    "## Dla równych wariancji\n",
    "![](images/test_t_rowne_wariancje.PNG)\n",
    "\n",
    "### Test dla podanych statystyk"
   ]
  },
  {
   "cell_type": "code",
   "execution_count": 65,
   "metadata": {},
   "outputs": [
    {
     "name": "stdout",
     "output_type": "stream",
     "text": [
      "[1] \"T_(n1 + n2 - 2) = -1.04083299973307\"\n",
      "\n",
      "Test lewostronny\n",
      "p-wartosc 0.158462130101354 \n",
      "Zbior krytyczny: (-Inf, -2.650309)\n",
      "\n",
      "Test prawostronny\n",
      "p-wartosc 0.841537869898646 \n",
      "Zbior krytyczny: (2.650309, Inf)\n",
      "\n",
      "Test obustronny\n",
      "p-wartosc 0.316924260202709 \n",
      "Zbior krytyczny: (-Inf, -3.012276) v (3.012276, Inf)\n"
     ]
    }
   ],
   "source": [
    "x1_sr <- 1\n",
    "s1 <- 1\n",
    "n1 <- 5\n",
    "\n",
    "x2_sr <- 2\n",
    "s2 <- 2\n",
    "n2 <- 10\n",
    "\n",
    "df <- n1 + n2 - 2\n",
    "\n",
    "stat_test <- (x1_sr - x2_sr) / sqrt(\n",
    "    ((n1 - 1) * s1^2 + (n2 - 1) * s2^2) / (n1 + n2 - 2) * (1 / n1 + 1 / n2)\n",
    ")\n",
    "print(paste(\"T_(n1 + n2 - 2) =\", stat_test))\n",
    "\n",
    "poziom_istotnosci <- 0.01\n",
    "\n",
    "cat(\"\\nTest lewostronny\\n\")\n",
    "cat(paste(\"p-wartosc\", pt(stat_test, df=df), '\\n'))\n",
    "obsz_kryt_lewo <- qt(poziom_istotnosci, df=df)\n",
    "cat(sprintf(\"Zbior krytyczny: (-Inf, %f)\\n\", obsz_kryt_lewo))\n",
    "\n",
    "cat(\"\\nTest prawostronny\\n\")\n",
    "cat(paste(\"p-wartosc\", 1 - pt(stat_test, df=df), '\\n'))\n",
    "obsz_kryt_prawo <- qt(1 - poziom_istotnosci, df=df)\n",
    "cat(sprintf(\"Zbior krytyczny: (%f, Inf)\\n\", obsz_kryt_prawo))\n",
    "\n",
    "cat(\"\\nTest obustronny\\n\")\n",
    "cat(paste(\"p-wartosc\", pt(stat_test, df=df) + 1 - pt(-stat_test, df=df), '\\n'))\n",
    "obsz_kryt_obu <- qt(poziom_istotnosci / 2, df=df)\n",
    "cat(sprintf(\"Zbior krytyczny: (-Inf, %f) v (%f, Inf)\\n\", obsz_kryt_obu, -obsz_kryt_obu))"
   ]
  },
  {
   "cell_type": "markdown",
   "metadata": {},
   "source": [
    "## TEST DLA PODANYCH DANYCH"
   ]
  },
  {
   "cell_type": "code",
   "execution_count": 66,
   "metadata": {},
   "outputs": [
    {
     "name": "stdout",
     "output_type": "stream",
     "text": [
      "[1] \"Zalozenia CTL spelnione (n1 > 30 i n2 > 30)\"\n",
      "\n",
      "\n",
      "----------------\n",
      "Test obustronny\n",
      "\n",
      "\tPaired t-test\n",
      "\n",
      "data:  x and y\n",
      "t = 0.92743, df = 99, p-value = 0.356\n",
      "alternative hypothesis: true difference in means is not equal to 0\n",
      "99 percent confidence interval:\n",
      " -0.1217310  0.2546317\n",
      "sample estimates:\n",
      "mean of the differences \n",
      "             0.06645033 \n",
      "\n",
      "Wartosc statystyki testowej: 0.927432474366349 \n",
      "p-wartosc wieksza od poziomu istotnosci. Brak podstaw do odrzucenia H0\n",
      "\n",
      "----------------\n",
      "Test lewostronny\n",
      "\n",
      "\tPaired t-test\n",
      "\n",
      "data:  x and y\n",
      "t = 0.92743, df = 99, p-value = 0.822\n",
      "alternative hypothesis: true difference in means is less than 0\n",
      "99 percent confidence interval:\n",
      "      -Inf 0.2358738\n",
      "sample estimates:\n",
      "mean of the differences \n",
      "             0.06645033 \n",
      "\n",
      "Wartosc statystyki testowej: 0.927432474366349 \n",
      "p-wartosc wieksza od poziomu istotnosci. Brak podstaw do odrzucenia H0\n",
      "\n",
      "----------------\n",
      "Test prawostronny\n",
      "\n",
      "\tPaired t-test\n",
      "\n",
      "data:  x and y\n",
      "t = 0.92743, df = 99, p-value = 0.178\n",
      "alternative hypothesis: true difference in means is greater than 0\n",
      "99 percent confidence interval:\n",
      " -0.1029732        Inf\n",
      "sample estimates:\n",
      "mean of the differences \n",
      "             0.06645033 \n",
      "\n",
      "Wartosc statystyki testowej: 0.927432474366349 \n",
      "p-wartosc wieksza od poziomu istotnosci. Brak podstaw do odrzucenia H0"
     ]
    }
   ],
   "source": [
    "x <- (runif(100) -0.5)    #pierwsza populacja\n",
    "y <- (runif(100) - 0.5)*2 #druga populacja\n",
    "\n",
    "poziom_istotnosci <- 0.01\n",
    "sparowany <- T #CZY SPAROWANY\n",
    "rowne_wariancje <- F #CZY ROWNE WARIANCJE\n",
    "\n",
    "#sprawdzenie zalozen CLT\n",
    "if (length(x) > 30 & length(y) > 30){\n",
    "    print(\"Zalozenia CTL spelnione (n1 > 30 i n2 > 30)\")\n",
    "}else {\n",
    "    print(\"Zalozenia CTL nie sa spelnione! n1 <= 30 lub n2 <= 30\")\n",
    "}\n",
    "\n",
    "test <- function(x, y, alternative) {\n",
    "    res <- t.test(x, y, \n",
    "              paired = sparowany, \n",
    "              conf.level = 1 - poziom_istotnosci, \n",
    "              alternative = alternative,\n",
    "             var.equal = rowne_wariancje\n",
    "             )\n",
    "    print(res)\n",
    "    cat(paste(\"Wartosc statystyki testowej:\", res$statistic, '\\n'))\n",
    "    if(res$p.value < poziom_istotnosci){\n",
    "        cat(\"p-wartosc mniejsza od poziomu istotnosci. Odrzucamy H0\")\n",
    "    }else{\n",
    "        cat(\"p-wartosc wieksza od poziomu istotnosci. Brak podstaw do odrzucenia H0\")\n",
    "    }\n",
    "}\n",
    "\n",
    "cat(\"\\n\\n----------------\\nTest obustronny\\n\")\n",
    "test(x, y, \"two.sided\")\n",
    "\n",
    "cat(\"\\n\\n----------------\\nTest lewostronny\\n\")\n",
    "test(x, y, \"less\")\n",
    "\n",
    "cat(\"\\n\\n----------------\\nTest prawostronny\\n\")\n",
    "test(x, y, \"greater\")"
   ]
  },
  {
   "cell_type": "code",
   "execution_count": null,
   "metadata": {},
   "outputs": [],
   "source": []
  }
 ],
 "metadata": {
  "kernelspec": {
   "display_name": "R",
   "language": "R",
   "name": "ir"
  },
  "language_info": {
   "codemirror_mode": "r",
   "file_extension": ".r",
   "mimetype": "text/x-r-source",
   "name": "R",
   "pygments_lexer": "r",
   "version": "3.6.1"
  }
 },
 "nbformat": 4,
 "nbformat_minor": 4
}
