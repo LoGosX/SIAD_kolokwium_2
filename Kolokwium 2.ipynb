{
 "cells": [
  {
   "cell_type": "code",
   "execution_count": 11,
   "metadata": {},
   "outputs": [],
   "source": [
    "# funkcja generująca dane o konkretnej średniej i odchyleniu standardowym\n",
    "# dzięki temu można wykorzystać wbudowane testy w R gdy nie mamy danych tylko ich statystyki opisowe\n",
    "wygeneruj_dane <- function(srednia, odch_std, n) {\n",
    "    if(n %% 2 == 1) {\n",
    "        #1/(n-1) * (n-1) * a^2 = a^2 = odch_std^2 -> a = odch_std\n",
    "        n_rep <- (n-1)/2\n",
    "        dane <- c(0, rep(-odch_std, n_rep), rep(odch_std, n_rep))\n",
    "    }else {\n",
    "        #1 / (n-1) * n * a^2 = n/(n-1) * a^2 = odch_std^2 -> a = sqrt((n-1)/n) * odch_std\n",
    "        n_rep <- n / 2\n",
    "        rep_val <- sqrt((n-1) / n) * odch_std\n",
    "        dane <- c(rep(rep_val, n_rep), rep(-rep_val, n_rep))\n",
    "    }\n",
    "    dane <- dane + srednia\n",
    "}"
   ]
  },
  {
   "cell_type": "markdown",
   "metadata": {},
   "source": [
    "* [Kowariancja](#Kowariancja)\n",
    "* [Korelacja](#Korelacja)\n",
    "    * [Test](#Test-na-korelację)\n",
    "    * [Dla podanych danych](#Dla-podanych-danych)\n",
    "    * [Dla podanych statystyk](#Dla-podanych-statystyk)\n",
    "* [Testy dla dwóch populacji](#Testy-dla-dwóch-populacji)\n",
    "    * [Jaki test wybrac](#Jaki-test-wybrac)\n",
    "    * [Test Z sparowane](#Test-Z-sparowane)\n",
    "    * [Test Z niesparowane](#Test-Z)\n",
    "    * [Test T niesparowane](#Test-T)\n",
    "        * [Dla rownych wariancji](#Dla-rownych-wariancji)\n",
    "        * [Dla roznych wariancji](#Dla-roznych-wariancji)\n",
    "* [Regresja liniowa](#Regresja-liniowa)\n",
    "    * [Twierdzenia](#Twierdzenia)\n",
    "        * Suma reszt = 0\n",
    "        * Przechodzenie przez punkt (x_srednia, y_srednia)\n",
    "        * Wyznaczanie współczynników B_0 i B_1 \n",
    "    * [Reszta](#Reszta)\n",
    "    * [SSE](#SSE)\n",
    "    * [SSR](#SSR)\n",
    "    * [SST](#SST)\n",
    "    * [RMS](#RMS)\n",
    "    * [Współczynnik determinacji](#Współczynnik-determinacji)"
   ]
  },
  {
   "cell_type": "markdown",
   "metadata": {},
   "source": [
    "### Kowariancja <a class=\"anchor\" id=\"Kowariancja\"></a>\n",
    "![](images/kowariancja.PNG)"
   ]
  },
  {
   "cell_type": "code",
   "execution_count": 12,
   "metadata": {},
   "outputs": [
    {
     "name": "stdout",
     "output_type": "stream",
     "text": [
      "[1] \"S_x,y = -0.00284820271124978\"\n"
     ]
    }
   ],
   "source": [
    "x <- runif(10)\n",
    "y <- runif(10)\n",
    "print(paste(\"S_x,y =\", cov(x,y)))"
   ]
  },
  {
   "cell_type": "markdown",
   "metadata": {},
   "source": [
    "### Korelacja\n",
    "![](images/korelacja.png)"
   ]
  },
  {
   "cell_type": "code",
   "execution_count": 13,
   "metadata": {},
   "outputs": [
    {
     "name": "stdout",
     "output_type": "stream",
     "text": [
      "[1] \"r_x,y = \"\n"
     ]
    }
   ],
   "source": [
    "S_xy <- NULL\n",
    "S_x <-  NULL\n",
    "S_y <-  NULL\n",
    "cor_xy <- S_xy / (S_x * S_y)\n",
    "print(paste(\"r_x,y =\", cor_xy))"
   ]
  },
  {
   "cell_type": "code",
   "execution_count": 14,
   "metadata": {},
   "outputs": [
    {
     "name": "stdout",
     "output_type": "stream",
     "text": [
      "[1] \"r_x,y = -0.696106140174946\"\n"
     ]
    }
   ],
   "source": [
    "x <- c(1,2,3,4)\n",
    "y <- c(5,6,7,-8)\n",
    "cor_xy <- cor(x, y, method = \"pearson\")\n",
    "print(paste(\"r_x,y =\", cor_xy))"
   ]
  },
  {
   "cell_type": "markdown",
   "metadata": {},
   "source": [
    "![](images/korelacja_wlasciwosci.PNG)\n",
    "![](images/przyklad_korelacja.PNG)\n",
    "? - korelacja nie istnieje gdy jedna z zmiennych ma zerową wariancję (jest stała)\n",
    "## Test na korelację\n",
    "![](images/korelacja_test.PNG)\n",
    "### Dla podanych statystyk"
   ]
  },
  {
   "cell_type": "code",
   "execution_count": 15,
   "metadata": {},
   "outputs": [
    {
     "name": "stdout",
     "output_type": "stream",
     "text": [
      "Obliczona korelacja: -0.696106140174946 \n",
      "Poziom istotnosci: 0.01 \n",
      "\n",
      "T_(n-2) = -2.74241377865072 \n",
      "\n",
      "Test lewostronny\n",
      "p-wartosc = 0.012677\n",
      "Zbior krytyczny: (-Inf, -2.896459)\n",
      "\n",
      "Test prawostronny\n",
      "p-wartosc = 0.987323\n",
      "Zbior krytyczny: (2.896459, Inf)\n",
      "\n",
      "Test obustronny\n",
      "p-wartosc = 0.025354\n",
      "Zbior krytyczny: (-Inf, -3.355387) v (3.355387, Inf)\n"
     ]
    }
   ],
   "source": [
    "#cor_xy <- \n",
    "#n <- length(x)\n",
    "n <- 10\n",
    "poziom_istotnosci <- 0.01\n",
    "\n",
    "cat(paste(\"Obliczona korelacja:\", cor_xy, '\\nPoziom istotnosci:', poziom_istotnosci, '\\n\\n'))\n",
    "\n",
    "wart_stat_testowej <- cor_xy / (sqrt(1 - cor_xy ^ 2)) * sqrt(n-2)\n",
    "cat(paste(\"T_(n-2) =\", wart_stat_testowej, '\\n'))\n",
    "\n",
    "zbior_kryt_lewo <- qt(poziom_istotnosci, df = n - 2)\n",
    "p_wart_lewo <- pt(wart_stat_testowej, df = n - 2)\n",
    "cat(sprintf(\"\n",
    "Test lewostronny\n",
    "p-wartosc = %f\n",
    "Zbior krytyczny: (-Inf, %f)\n",
    "\", p_wart_lewo, zbior_kryt_lewo))\n",
    "\n",
    "zbior_kryt_prawo <- qt(1 - poziom_istotnosci, df = n - 2)\n",
    "p_wart_prawo <- 1 - pt(wart_stat_testowej, df = n - 2)\n",
    "cat(sprintf(\"\n",
    "Test prawostronny\n",
    "p-wartosc = %f\n",
    "Zbior krytyczny: (%f, Inf)\n",
    "\", p_wart_prawo, zbior_kryt_prawo))\n",
    "\n",
    "\n",
    "zbior_kryt_obu <- qt(poziom_istotnosci / 2, df = n - 2)\n",
    "p_wart_obu <- 2 * (1 - pt(abs(wart_stat_testowej), df = n - 2))\n",
    "cat(sprintf(\"\n",
    "Test obustronny\n",
    "p-wartosc = %f\n",
    "Zbior krytyczny: (-Inf, %f) v (%f, Inf)\n",
    "\", p_wart_obu, zbior_kryt_obu, -zbior_kryt_obu))"
   ]
  },
  {
   "cell_type": "markdown",
   "metadata": {},
   "source": [
    "### Dla podanych danych"
   ]
  },
  {
   "cell_type": "code",
   "execution_count": 16,
   "metadata": {},
   "outputs": [
    {
     "name": "stdout",
     "output_type": "stream",
     "text": [
      "[1] \"Test obustronny\"\n"
     ]
    },
    {
     "data": {
      "text/plain": [
       "\n",
       "\tPearson's product-moment correlation\n",
       "\n",
       "data:  x and y\n",
       "t = -1.3712, df = 2, p-value = 0.3039\n",
       "alternative hypothesis: true correlation is not equal to 0\n",
       "99 percent confidence interval:\n",
       " -0.9979274  0.9373945\n",
       "sample estimates:\n",
       "       cor \n",
       "-0.6961061 \n"
      ]
     },
     "metadata": {},
     "output_type": "display_data"
    },
    {
     "name": "stdout",
     "output_type": "stream",
     "text": [
      "[1] \"Test lewostronny\"\n"
     ]
    },
    {
     "data": {
      "text/plain": [
       "\n",
       "\tPearson's product-moment correlation\n",
       "\n",
       "data:  x and y\n",
       "t = -1.3712, df = 2, p-value = 0.1519\n",
       "alternative hypothesis: true correlation is less than 0\n",
       "99 percent confidence interval:\n",
       " -1.0000000  0.8989349\n",
       "sample estimates:\n",
       "       cor \n",
       "-0.6961061 \n"
      ]
     },
     "metadata": {},
     "output_type": "display_data"
    },
    {
     "name": "stdout",
     "output_type": "stream",
     "text": [
      "[1] \"Test prawostronny\"\n"
     ]
    },
    {
     "data": {
      "text/plain": [
       "\n",
       "\tPearson's product-moment correlation\n",
       "\n",
       "data:  x and y\n",
       "t = -1.3712, df = 2, p-value = 0.8481\n",
       "alternative hypothesis: true correlation is greater than 0\n",
       "99 percent confidence interval:\n",
       " -0.9965887  1.0000000\n",
       "sample estimates:\n",
       "       cor \n",
       "-0.6961061 \n"
      ]
     },
     "metadata": {},
     "output_type": "display_data"
    }
   ],
   "source": [
    "x <- c(1,2,3,4)\n",
    "y <- c(5,6,7,-8)\n",
    "poziom_istotnosci <- 0.01\n",
    "\n",
    "\n",
    "print(\"Test obustronny\")\n",
    "(cor.test(x, y, conf.level = 1-poziom_istotnosci))\n",
    "print(\"Test lewostronny\")\n",
    "(cor.test(x, y, conf.level = 1-poziom_istotnosci, alternative = \"less\"))\n",
    "print(\"Test prawostronny\")\n",
    "(cor.test(x, y, conf.level = 1-poziom_istotnosci, alternative = \"greater\"))"
   ]
  },
  {
   "cell_type": "markdown",
   "metadata": {},
   "source": [
    "# Testy dla dwóch populacji\n",
    "\n",
    "### Jaki test wybrac\n",
    "![](images/jaki_test_wybrac.PNG)\n",
    "\n",
    "## Test sparowane\n",
    "### Test Z sparowane"
   ]
  },
  {
   "cell_type": "code",
   "execution_count": 24,
   "metadata": {},
   "outputs": [
    {
     "name": "stdout",
     "output_type": "stream",
     "text": [
      "[1] \"Zalozenia CTL nie sa spelnione!\"\n",
      "[1] \"Wartosc statystyki testowej: 0.71443450831176\"\n",
      "H1: mu < 0\n",
      "p-wartosc lewy ogon: 0.762521\n",
      "Zbiór krytyczny: (-Inf, -2.326348)\n",
      "\n",
      "H1: mu > 0\n",
      "p-wartosc prawy ogon: 0.237479\n",
      "Zbiór krytyczny: (2.326348, Inf)\n",
      "\n",
      "H1: mu != 0\n",
      "p-wartosc oba ogony: 0.474959\n",
      "Zbiór krytyczny: (-Inf, -2.575829) v (2.575829, Inf)\n",
      "\n"
     ]
    }
   ],
   "source": [
    "sigma <- 4\n",
    "x1 <- c(1, 2, 3, 4, 5, 6) #populacja 1\n",
    "x2 <- c(3, 3, 2, 1, 2, 3) #populacja 2\n",
    "x <- x1 - x2\n",
    "n <- length(x)\n",
    "\n",
    "if(n <= 30) {\n",
    "    print(\"Założenia CTL nie są spełnione! (n <= 30)\")\n",
    "} \n",
    "\n",
    "#H0: mu = 0\n",
    "poziom_istotnosci <- 0.01\n",
    "z_test <- (mean(x) - 0) / (sigma / sqrt(n))\n",
    "#z_test <- 3\n",
    "print(paste(\"Wartość statystyki testowej:\", z_test))\n",
    "\n",
    "#H1: mu < 0\n",
    "cat(\"H1: mu < 0\\n\")\n",
    "p_val_mniejsze <- pnorm(q = z_test, lower.tail = T)\n",
    "cat(sprintf(\"p-wartość lewy ogon: %f\n",
    "Zbiór krytyczny: (-Inf, %f)\\n\\n\", p_val_mniejsze, qnorm(p=poziom_istotnosci)))\n",
    "\n",
    "\n",
    "#H1: mu > 0\n",
    "p_val_wieksze <- pnorm(q = z_test, lower.tail = F)\n",
    "cat(\"H1: mu > 0\\n\")\n",
    "cat(sprintf(\"p-wartość prawy ogon: %f\n",
    "Zbiór krytyczny: (%f, Inf)\\n\\n\", p_val_wieksze, qnorm(p=1-poziom_istotnosci)))\n",
    "\n",
    "#H1: mu != 0\n",
    "p_val_rozne <- 2 * pnorm(q=abs(z_test), lower.tail = F)\n",
    "cat(\"H1: mu != 0\\n\")\n",
    "cat(sprintf(\"p-wartość oba ogony: %f\n",
    "Zbiór krytyczny: (-Inf, %f) v (%f, Inf)\\n\\n\", p_val_rozne, qnorm(p=poziom_istotnosci/2), qnorm(p=1-poziom_istotnosci/2)))"
   ]
  },
  {
   "cell_type": "markdown",
   "metadata": {},
   "source": [
    "## Test Z niesparowane\n",
    "![](images/test_z_sparowane.PNG)"
   ]
  },
  {
   "cell_type": "code",
   "execution_count": 18,
   "metadata": {},
   "outputs": [
    {
     "name": "stdout",
     "output_type": "stream",
     "text": [
      "[1] \"H0: mean1 = mean2\"\n",
      "[1] \"Z_{mean1 - mean2} = -3.16227766016838\"\n",
      "\n",
      "H1: mean1 < mean2\n",
      "p-wartosc: 0.000783\n",
      "Zbior krytyczny: (-Inf, -2.326348)\n",
      "\n",
      "H1: mean1 > mean2\n",
      "p-wartosc: 0.999217\n",
      "Zbior krytyczny: (-Inf, 2.326348)\n",
      "\n",
      "H1: mean1 = mean2\n",
      "p-wartosc: 0.001565\n",
      "Zbior krytyczny: (-Inf, -2.575829) v (2.575829, Inf)\n"
     ]
    }
   ],
   "source": [
    "mean1 <- 1\n",
    "mean2 <- 2\n",
    "sigma1 <- 1\n",
    "sigma2 <- 2\n",
    "n1 <- 50\n",
    "n2 <- 50\n",
    "poziom_istotnosci <- 0.01\n",
    "z_test <- (mean1 - mean2) / sqrt(sigma1^2/n1 + sigma2^2/n2)\n",
    "\n",
    "if(n1 <= 30 | n2 <= 30) {\n",
    "    print(\"Założenia CTL nie są spełnione!\")\n",
    "}\n",
    "\n",
    "print(\"H0: mean1 = mean2\")\n",
    "print(paste(\"Z_{mean1 - mean2} =\", z_test))\n",
    "\n",
    "#H0: mean1 = mean2\n",
    "\n",
    "#H1: mean1 < mean2\n",
    "p_val_lewo <- pnorm(q=z_test, lower.tail = T)\n",
    "cat(sprintf(\"\n",
    "H1: mean1 < mean2\n",
    "p-wartosc: %f\n",
    "Zbior krytyczny: (-Inf, %f)\n",
    "\", p_val_lewo, qnorm(poziom_istotnosci)))\n",
    "\n",
    "#H1: mean1 > mean2\n",
    "p_val_prawo <- pnorm(q=z_test, lower.tail = F)\n",
    "cat(sprintf(\"\n",
    "H1: mean1 > mean2\n",
    "p-wartosc: %f\n",
    "Zbior krytyczny: (-Inf, %f)\n",
    "\", p_val_prawo, qnorm(1-poziom_istotnosci)))\n",
    "\n",
    "#H1: mean1 != mean2\n",
    "p_val_obu <- 2 * pnorm(q=abs(z_test), lower.tail = F)\n",
    "cat(sprintf(\"\n",
    "H1: mean1 = mean2\n",
    "p-wartosc: %f\n",
    "Zbior krytyczny: (-Inf, %f) v (%f, Inf)\n",
    "\", p_val_obu, qnorm(poziom_istotnosci/2), qnorm(1-poziom_istotnosci/2)))"
   ]
  },
  {
   "cell_type": "markdown",
   "metadata": {},
   "source": [
    "## Test T\n",
    "### Dla równych wariancji\n",
    "![](images/test_t_rowne_wariancje.PNG)\n",
    "\n",
    "### Test dla podanych statystyk"
   ]
  },
  {
   "cell_type": "code",
   "execution_count": 19,
   "metadata": {},
   "outputs": [
    {
     "name": "stdout",
     "output_type": "stream",
     "text": [
      "[1] \"T_(n1 + n2 - 2) = -2.48997991959775\"\n",
      "\n",
      "Test lewostronny\n",
      "p-wartosc 0.00778146781419984 \n",
      "Zbior krytyczny: (-Inf, -2.390119)\n",
      "\n",
      "Test prawostronny\n",
      "p-wartosc 0.9922185321858 \n",
      "Zbior krytyczny: (2.390119, Inf)\n",
      "\n",
      "Test obustronny\n",
      "p-wartosc 0.0155629356283997 \n",
      "Zbior krytyczny: (-Inf, -2.660283) v (2.660283, Inf)\n",
      "\n",
      "\tTwo Sample t-test\n",
      "\n",
      "data:  x and y\n",
      "t = -1.0408, df = 13, p-value = 0.3169\n",
      "alternative hypothesis: true difference in means is not equal to 0\n",
      "99 percent confidence interval:\n",
      " -3.894101  1.894101\n",
      "sample estimates:\n",
      "mean of x mean of y \n",
      "        1         2 \n",
      "\n"
     ]
    },
    {
     "data": {
      "text/html": [
       "<strong>t:</strong> -1.04083299973307"
      ],
      "text/latex": [
       "\\textbf{t:} -1.04083299973307"
      ],
      "text/markdown": [
       "**t:** -1.04083299973307"
      ],
      "text/plain": [
       "        t \n",
       "-1.040833 "
      ]
     },
     "metadata": {},
     "output_type": "display_data"
    }
   ],
   "source": [
    "x1_sr <- 1\n",
    "s1 <- 1\n",
    "n1 <- 31 \n",
    "\n",
    "x2_sr <- 2\n",
    "s2 <- 2\n",
    "n2 <- 31\n",
    "\n",
    "if(n1 <= 30 | n2 <= 30){\n",
    "    print(\"Założenia CLT nie są spełnione! (n1 > 30 i n2 > 30)\")\n",
    "}\n",
    "\n",
    "df <- n1 + n2 - 2\n",
    "\n",
    "stat_test <- (x1_sr - x2_sr) / sqrt(\n",
    "    ((n1 - 1) * s1^2 + (n2 - 1) * s2^2) / (n1 + n2 - 2) * (1 / n1 + 1 / n2)\n",
    ")\n",
    "print(paste(\"T_(n1 + n2 - 2) =\", stat_test))\n",
    "\n",
    "poziom_istotnosci <- 0.01\n",
    "\n",
    "cat(\"\\nTest lewostronny\\n\")\n",
    "cat(paste(\"p-wartosc\", pt(stat_test, df=df), '\\n'))\n",
    "obsz_kryt_lewo <- qt(poziom_istotnosci, df=df)\n",
    "cat(sprintf(\"Zbior krytyczny: (-Inf, %f)\\n\", obsz_kryt_lewo))\n",
    "\n",
    "cat(\"\\nTest prawostronny\\n\")\n",
    "cat(paste(\"p-wartosc\", 1 - pt(stat_test, df=df), '\\n'))\n",
    "obsz_kryt_prawo <- qt(1 - poziom_istotnosci, df=df)\n",
    "cat(sprintf(\"Zbior krytyczny: (%f, Inf)\\n\", obsz_kryt_prawo))\n",
    "\n",
    "cat(\"\\nTest obustronny\\n\")\n",
    "cat(paste(\"p-wartosc\", pt(stat_test, df=df) + 1 - pt(-stat_test, df=df), '\\n'))\n",
    "obsz_kryt_obu <- qt(poziom_istotnosci / 2, df=df)\n",
    "cat(sprintf(\"Zbior krytyczny: (-Inf, %f) v (%f, Inf)\\n\", obsz_kryt_obu, -obsz_kryt_obu))\n",
    "\n",
    "x <- wygeneruj_dane(1,1,5)\n",
    "y <- wygeneruj_dane(2,2,10)\n",
    "test <- t.test(x, y, var.equal = T, conf.level = 0.99)\n",
    "print(test)\n",
    "test$statistic"
   ]
  },
  {
   "cell_type": "markdown",
   "metadata": {},
   "source": [
    "## TEST DLA PODANYCH DANYCH\n",
    "### Dla rownych wariancji"
   ]
  },
  {
   "cell_type": "code",
   "execution_count": 20,
   "metadata": {},
   "outputs": [],
   "source": [
    "rowne_wariancje <- T"
   ]
  },
  {
   "cell_type": "markdown",
   "metadata": {},
   "source": [
    "### Dla roznych wariancji"
   ]
  },
  {
   "cell_type": "code",
   "execution_count": 21,
   "metadata": {},
   "outputs": [],
   "source": [
    "rowne_wariancje <- F"
   ]
  },
  {
   "cell_type": "code",
   "execution_count": 22,
   "metadata": {},
   "outputs": [
    {
     "name": "stdout",
     "output_type": "stream",
     "text": [
      "[1] \"Zalozenia CTL spelnione (n1 > 30 i n2 > 30)\"\n",
      "\n",
      "\n",
      "----------------\n",
      "Test obustronny\n",
      "\n",
      "\tPaired t-test\n",
      "\n",
      "data:  x and y\n",
      "t = -5.5678, df = 30, p-value = 4.691e-06\n",
      "alternative hypothesis: true difference in means is not equal to 0\n",
      "99 percent confidence interval:\n",
      " -1.4939138 -0.5060862\n",
      "sample estimates:\n",
      "mean of the differences \n",
      "                     -1 \n",
      "\n",
      "Wartosc statystyki testowej: -5.56776436283002 \n",
      "p-wartosc mniejsza od poziomu istotnosci. Odrzucamy H0\n",
      "\n",
      "----------------\n",
      "Test lewostronny\n",
      "\n",
      "\tPaired t-test\n",
      "\n",
      "data:  x and y\n",
      "t = -5.5678, df = 30, p-value = 2.346e-06\n",
      "alternative hypothesis: true difference in means is less than 0\n",
      "99 percent confidence interval:\n",
      "       -Inf -0.5586628\n",
      "sample estimates:\n",
      "mean of the differences \n",
      "                     -1 \n",
      "\n",
      "Wartosc statystyki testowej: -5.56776436283002 \n",
      "p-wartosc mniejsza od poziomu istotnosci. Odrzucamy H0\n",
      "\n",
      "----------------\n",
      "Test prawostronny\n",
      "\n",
      "\tPaired t-test\n",
      "\n",
      "data:  x and y\n",
      "t = -5.5678, df = 30, p-value = 1\n",
      "alternative hypothesis: true difference in means is greater than 0\n",
      "99 percent confidence interval:\n",
      " -1.441337       Inf\n",
      "sample estimates:\n",
      "mean of the differences \n",
      "                     -1 \n",
      "\n",
      "Wartosc statystyki testowej: -5.56776436283002 \n",
      "p-wartosc wieksza od poziomu istotnosci. Brak podstaw do odrzucenia H0"
     ]
    }
   ],
   "source": [
    "x <- wygeneruj_dane(1, 1, 31)\n",
    "y <- wygeneruj_dane(2, 2, 31)\n",
    "\n",
    "poziom_istotnosci <- 0.01\n",
    "sparowany <- T #CZY SPAROWANY\n",
    "\n",
    "\n",
    "#sprawdzenie zalozen CLT\n",
    "if (length(x) > 30 & length(y) > 30){\n",
    "    print(\"Zalozenia CTL spelnione (n1 > 30 i n2 > 30)\")\n",
    "}else {\n",
    "    print(\"Zalozenia CTL nie sa spelnione! n1 <= 30 lub n2 <= 30\")\n",
    "}\n",
    "\n",
    "test <- function(x, y, alternative) {\n",
    "    res <- t.test(x, y, \n",
    "              paired = sparowany, \n",
    "              conf.level = 1 - poziom_istotnosci, \n",
    "              alternative = alternative,\n",
    "             var.equal = rowne_wariancje\n",
    "             )\n",
    "    print(res)\n",
    "    cat(paste(\"Wartosc statystyki testowej:\", res$statistic, '\\n'))\n",
    "    if(res$p.value < poziom_istotnosci){\n",
    "        cat(\"p-wartosc mniejsza od poziomu istotnosci. Odrzucamy H0\")\n",
    "    }else{\n",
    "        cat(\"p-wartosc wieksza od poziomu istotnosci. Brak podstaw do odrzucenia H0\")\n",
    "    }\n",
    "}\n",
    "\n",
    "cat(\"\\n\\n----------------\\nTest obustronny\\n\")\n",
    "test(x, y, \"two.sided\")\n",
    "\n",
    "cat(\"\\n\\n----------------\\nTest lewostronny\\n\")\n",
    "test(x, y, \"less\")\n",
    "\n",
    "cat(\"\\n\\n----------------\\nTest prawostronny\\n\")\n",
    "test(x, y, \"greater\")"
   ]
  },
  {
   "cell_type": "markdown",
   "metadata": {
    "collapsed": true
   },
   "source": [
    "# Regresja liniowa\n",
    "\n",
    "## Założenia\n",
    "![](images/zal_reg_lin.PNG)\n",
    "### Twierdzenia\n",
    "![](images/reg_tw1.PNG)\n",
    "![](images/reg_tw2.PNG)\n",
    "![](images/reg_tw3.PNG)\n",
    "### Reszta\n",
    "![](images/reszta.PNG)\n",
    "### SSE\n",
    "![](images/SSE.PNG)\n",
    "### SSR\n",
    "![](images/SSR.PNG)\n",
    "### SST\n",
    "![](images/SST.PNG)\n",
    "### RMS\n",
    "![](images/RMS.PNG)\n",
    "![](images/RMS_NIEOBCIAZONE.PNG)\n",
    "### Współczynnik determinacji\n",
    "![](images/wsp_det.PNG)"
   ]
  },
  {
   "cell_type": "code",
   "execution_count": null,
   "metadata": {},
   "outputs": [],
   "source": []
  }
 ],
 "metadata": {
  "kernelspec": {
   "display_name": "R",
   "language": "R",
   "name": "ir"
  },
  "language_info": {
   "codemirror_mode": "r",
   "file_extension": ".r",
   "mimetype": "text/x-r-source",
   "name": "R",
   "pygments_lexer": "r",
   "version": "3.6.1"
  }
 },
 "nbformat": 4,
 "nbformat_minor": 4
}
