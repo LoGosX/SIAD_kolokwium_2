{
 "cells": [
  {
   "cell_type": "markdown",
   "metadata": {},
   "source": [
    "# Korelacja i kowariancja\n",
    "![](kowariancja.png)"
   ]
  },
  {
   "cell_type": "code",
   "execution_count": 44,
   "metadata": {},
   "outputs": [
    {
     "name": "stdout",
     "output_type": "stream",
     "text": [
      "[1] \"S_x,y = 0.00683458352708057\"\n"
     ]
    }
   ],
   "source": [
    "x <- runif(10)\n",
    "y <- runif(10)\n",
    "print(paste(\"S_x,y =\", cov(x,y)))"
   ]
  },
  {
   "cell_type": "markdown",
   "metadata": {},
   "source": [
    "![](korelacja.png)"
   ]
  },
  {
   "cell_type": "code",
   "execution_count": 45,
   "metadata": {},
   "outputs": [
    {
     "name": "stdout",
     "output_type": "stream",
     "text": [
      "[1] \"r_x,y = \"\n"
     ]
    }
   ],
   "source": [
    "S_xy <- NULL\n",
    "S_x <-  NULL\n",
    "S_y <-  NULL\n",
    "cor_xy <- S_xy / (S_x * S_y)\n",
    "print(paste(\"r_x,y =\", cor_xy))"
   ]
  },
  {
   "cell_type": "code",
   "execution_count": 60,
   "metadata": {},
   "outputs": [
    {
     "name": "stdout",
     "output_type": "stream",
     "text": [
      "[1] \"r_x,y = -0.696106140174946\"\n"
     ]
    }
   ],
   "source": [
    "x <- c(1,2,3,4)\n",
    "y <- c(5,6,7,-8)\n",
    "cor_xy <- cor(x, y, method = \"pearson\")\n",
    "print(paste(\"r_x,y =\", cor_xy))"
   ]
  },
  {
   "attachments": {},
   "cell_type": "markdown",
   "metadata": {},
   "source": [
    "![](korelacja_wlasciwosci.png)\n",
    "![](przyklad_korelacja.png)\n",
    "? - korelacja nie istnieje gdy jedna z zmiennych ma zerową wariancję (jest stała)\n",
    "## Test na korelację\n",
    "![](korelacja_test.png)\n",
    "### Dla obliczonej korelacji"
   ]
  },
  {
   "cell_type": "code",
   "execution_count": 72,
   "metadata": {},
   "outputs": [
    {
     "name": "stdout",
     "output_type": "stream",
     "text": [
      "Obliczona korelacja: -0.696106140174946 \n",
      "T_(n-2) = -2.74241377865072 \n",
      "\n",
      "Test lewostronny\n",
      "p-wartosc = 0.012677\n",
      "Zbior krytyczny: (-Inf, -2.896459)\n",
      "\n",
      "Test prawostronny\n",
      "p-wartosc = 0.012677\n",
      "Zbior krytyczny: (2.896459, Inf)\n"
     ]
    }
   ],
   "source": [
    "#cor_xy <- \n",
    "#n <- length(x)\n",
    "n <- 10\n",
    "poziom_istotnosci <- 0.01\n",
    "\n",
    "cat(paste(\"Obliczona korelacja:\", cor_xy, '\\n'))\n",
    "\n",
    "wart_stat_testowej <- cor_xy / (sqrt(1 - cor_xy ^ 2)) * sqrt(n-2)\n",
    "cat(paste(\"T_(n-2) =\", wart_stat_testowej, '\\n'))\n",
    "\n",
    "zbior_kryt_lewo <- qt(poziom_istotnosci, df = n - 2)\n",
    "p_wart_lewo <- pt(wart_stat_testowej, df = n - 2)\n",
    "cat(sprintf(\"\n",
    "Test lewostronny\n",
    "p-wartosc = %f\n",
    "Zbior krytyczny: (-Inf, %f)\n",
    "\", p_wart_lewo, zbior_kryt_lewo))\n",
    "\n",
    "zbior_kryt_prawo <- qt(1 - poziom_istotnosci, df = n - 2)\n",
    "p_wart_prawo <- 1 - pt(-wart_stat_testowej, df = n - 2)\n",
    "cat(sprintf(\"\n",
    "Test prawostronny\n",
    "p-wartosc = %f\n",
    "Zbior krytyczny: (%f, Inf)\n",
    "\", p_wart_prawo, zbior_kryt_prawo))"
   ]
  },
  {
   "cell_type": "markdown",
   "metadata": {},
   "source": [
    "### Dla danych"
   ]
  },
  {
   "cell_type": "code",
   "execution_count": 78,
   "metadata": {},
   "outputs": [
    {
     "name": "stdout",
     "output_type": "stream",
     "text": [
      "[1] \"Test obustronny\"\n"
     ]
    },
    {
     "data": {
      "text/plain": [
       "\n",
       "\tPearson's product-moment correlation\n",
       "\n",
       "data:  x and y\n",
       "t = -1.3712, df = 2, p-value = 0.3039\n",
       "alternative hypothesis: true correlation is not equal to 0\n",
       "99 percent confidence interval:\n",
       " -0.9979274  0.9373945\n",
       "sample estimates:\n",
       "       cor \n",
       "-0.6961061 \n"
      ]
     },
     "metadata": {},
     "output_type": "display_data"
    },
    {
     "name": "stdout",
     "output_type": "stream",
     "text": [
      "[1] \"Test lewostronny\"\n"
     ]
    },
    {
     "data": {
      "text/plain": [
       "\n",
       "\tPearson's product-moment correlation\n",
       "\n",
       "data:  x and y\n",
       "t = -1.3712, df = 2, p-value = 0.1519\n",
       "alternative hypothesis: true correlation is less than 0\n",
       "99 percent confidence interval:\n",
       " -1.0000000  0.8989349\n",
       "sample estimates:\n",
       "       cor \n",
       "-0.6961061 \n"
      ]
     },
     "metadata": {},
     "output_type": "display_data"
    },
    {
     "name": "stdout",
     "output_type": "stream",
     "text": [
      "[1] \"Test prawostronny\"\n"
     ]
    },
    {
     "data": {
      "text/plain": [
       "\n",
       "\tPearson's product-moment correlation\n",
       "\n",
       "data:  x and y\n",
       "t = -1.3712, df = 2, p-value = 0.8481\n",
       "alternative hypothesis: true correlation is greater than 0\n",
       "99 percent confidence interval:\n",
       " -0.9965887  1.0000000\n",
       "sample estimates:\n",
       "       cor \n",
       "-0.6961061 \n"
      ]
     },
     "metadata": {},
     "output_type": "display_data"
    }
   ],
   "source": [
    "x <- c(1,2,3,4)\n",
    "y <- c(5,6,7,-8)\n",
    "poziom_istotnosci <- 0.01\n",
    "\n",
    "print(\"Test obustronny\")\n",
    "(cor.test(x, y, conf.level = 1-poziom_istotnosci))\n",
    "print(\"Test lewostronny\")\n",
    "(cor.test(x, y, conf.level = 1-poziom_istotnosci, alternative = \"less\"))\n",
    "print(\"Test prawostronny\")\n",
    "(cor.test(x, y, conf.level = 1-poziom_istotnosci, alternative = \"greater\"))"
   ]
  },
  {
   "cell_type": "markdown",
   "metadata": {},
   "source": [
    "# Test T dla dwóch populacji sparowanych \n",
    "\n",
    "## TEST DLA PODANYCH DANYCH"
   ]
  },
  {
   "cell_type": "code",
   "execution_count": 43,
   "metadata": {},
   "outputs": [
    {
     "name": "stdout",
     "output_type": "stream",
     "text": [
      "[1] \"Zalozenia CTL spelnione (n1 > 30 i n2 > 30)\"\n",
      "[1] \"Test T dla populacji o roznych wariancjach\"\n",
      "\n",
      "\tPaired t-test\n",
      "\n",
      "data:  x and y\n",
      "t = 0.90831, df = 99, p-value = 0.3659\n",
      "alternative hypothesis: true difference in means is not equal to 0\n",
      "99 percent confidence interval:\n",
      " -0.1045137  0.2150215\n",
      "sample estimates:\n",
      "mean of the differences \n",
      "             0.05525391 \n",
      "\n",
      "[1] \"Wartosc statystyki testowej: 0.908314278525291\"\n",
      "[1] \"p-wartosc wieksza od poziomu istotnosci. Brak podstaw do odrzucenia H0\"\n"
     ]
    }
   ],
   "source": [
    "poziom_istotnosci <- 0.01\n",
    "sparowany <- T\n",
    "rowne_wariancje <- F\n",
    "\n",
    "#alternative - a character string specifying the alternative hypothesis, \n",
    "#must be one of \"two.sided\" (default), \"greater\" or \"less\". You can specify just the initial letter.\n",
    "alternative <- \"two.sided\"\n",
    "#alternative <- \"greater\"\n",
    "#alternative <- \"less\"\n",
    "x <- (runif(100) -0.5)    #pierwsza populacja\n",
    "y <- (runif(100) - 0.5)*2 #druga populacja\n",
    "\n",
    "#sprawdzenie zalozen CLT\n",
    "if (length(x) > 30 & length(y) > 30){\n",
    "    print(\"Zalozenia CTL spelnione (n1 > 30 i n2 > 30)\")\n",
    "}else {\n",
    "    print(\"Zalozenia CTL nie sa spelnione! n1 <= 30 lub n2 <= 30\")\n",
    "}\n",
    "if(rowne_wariancje){\n",
    "    print(\"Test T dla populacji o rownych wariancjach\")\n",
    "}else{\n",
    "    print(\"Test T dla populacji o roznych wariancjach\")\n",
    "}\n",
    "\n",
    "res <- t.test(x, y, \n",
    "              paired = sparowany, \n",
    "              conf.level = 1 - poziom_istotnosci, \n",
    "              alternative = alternative,\n",
    "             var.equal = rowne_wariancje\n",
    "             )\n",
    "print(res)\n",
    "print(paste(\"Wartosc statystyki testowej:\", res$statistic))\n",
    "if(res$p.value < poziom_istotnosci){\n",
    "    print(\"p-wartosc mniejsza od poziomu istotnosci. Odrzucamy H0\")\n",
    "}else{\n",
    "    print(\"p-wartosc wieksza od poziomu istotnosci. Brak podstaw do odrzucenia H0\")\n",
    "}"
   ]
  }
 ],
 "metadata": {
  "kernelspec": {
   "display_name": "R",
   "language": "R",
   "name": "ir"
  },
  "language_info": {
   "codemirror_mode": "r",
   "file_extension": ".r",
   "mimetype": "text/x-r-source",
   "name": "R",
   "pygments_lexer": "r",
   "version": "3.6.1"
  }
 },
 "nbformat": 4,
 "nbformat_minor": 4
}
